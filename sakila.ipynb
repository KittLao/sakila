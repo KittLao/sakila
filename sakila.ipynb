{
  "nbformat": 4,
  "nbformat_minor": 0,
  "metadata": {
    "colab": {
      "provenance": [],
      "authorship_tag": "ABX9TyMRWag3NC1HMrYqS3dM4QJS",
      "include_colab_link": true
    },
    "kernelspec": {
      "name": "python3",
      "display_name": "Python 3"
    },
    "language_info": {
      "name": "python"
    }
  },
  "cells": [
    {
      "cell_type": "markdown",
      "metadata": {
        "id": "view-in-github",
        "colab_type": "text"
      },
      "source": [
        "<a href=\"https://colab.research.google.com/github/KittLao/sakila/blob/main/sakila.ipynb\" target=\"_parent\"><img src=\"https://colab.research.google.com/assets/colab-badge.svg\" alt=\"Open In Colab\"/></a>"
      ]
    },
    {
      "cell_type": "code",
      "source": [
        "!pip install mysql-connector-python"
      ],
      "metadata": {
        "colab": {
          "base_uri": "https://localhost:8080/"
        },
        "id": "iAi8e3HNV2NN",
        "outputId": "78086541-5ae0-48ec-8fa6-b579cf4d390a"
      },
      "execution_count": 2,
      "outputs": [
        {
          "output_type": "stream",
          "name": "stdout",
          "text": [
            "Collecting mysql-connector-python\n",
            "  Downloading mysql_connector_python-8.1.0-cp310-cp310-manylinux_2_17_x86_64.whl (27.5 MB)\n",
            "\u001b[2K     \u001b[90m━━━━━━━━━━━━━━━━━━━━━━━━━━━━━━━━━━━━━━━━\u001b[0m \u001b[32m27.5/27.5 MB\u001b[0m \u001b[31m73.7 MB/s\u001b[0m eta \u001b[36m0:00:00\u001b[0m\n",
            "\u001b[?25hCollecting protobuf<=4.21.12,>=4.21.1 (from mysql-connector-python)\n",
            "  Downloading protobuf-4.21.12-cp37-abi3-manylinux2014_x86_64.whl (409 kB)\n",
            "\u001b[2K     \u001b[90m━━━━━━━━━━━━━━━━━━━━━━━━━━━━━━━━━━━━━━━━\u001b[0m \u001b[32m409.8/409.8 kB\u001b[0m \u001b[31m37.6 MB/s\u001b[0m eta \u001b[36m0:00:00\u001b[0m\n",
            "\u001b[?25hInstalling collected packages: protobuf, mysql-connector-python\n",
            "  Attempting uninstall: protobuf\n",
            "    Found existing installation: protobuf 3.20.3\n",
            "    Uninstalling protobuf-3.20.3:\n",
            "      Successfully uninstalled protobuf-3.20.3\n",
            "\u001b[31mERROR: pip's dependency resolver does not currently take into account all the packages that are installed. This behaviour is the source of the following dependency conflicts.\n",
            "tensorflow-metadata 1.14.0 requires protobuf<4.21,>=3.20.3, but you have protobuf 4.21.12 which is incompatible.\u001b[0m\u001b[31m\n",
            "\u001b[0mSuccessfully installed mysql-connector-python-8.1.0 protobuf-4.21.12\n"
          ]
        }
      ]
    },
    {
      "cell_type": "code",
      "execution_count": 3,
      "metadata": {
        "id": "tvx9kGv4bWuQ"
      },
      "outputs": [],
      "source": [
        "import mysql.connector\n"
      ]
    },
    {
      "cell_type": "code",
      "source": [
        "# Database different from database identifier. Identifier contains multiple\n",
        "# databases.\n",
        "USER = \"admin\"\n",
        "PASSWORD = \"21223032315684kK\"\n",
        "HOST = \"sakila-mysql.cdfvrj0gw8cb.us-east-1.rds.amazonaws.com\"\n",
        "DATABASE = \"sakila\"\n",
        "\n",
        "cnx = mysql.connector.connect(user=USER, password=PASSWORD,\n",
        "                              host=HOST,\n",
        "                              database=DATABASE)\n",
        "\n"
      ],
      "metadata": {
        "id": "ms2q6kfqVzBm"
      },
      "execution_count": 13,
      "outputs": []
    },
    {
      "cell_type": "code",
      "source": [
        "# Need to use buffered cursor so we can execute initialize cursor again if needed.\n",
        "cursor = cnx.cursor(buffered=True)"
      ],
      "metadata": {
        "id": "jzs5V-meY5Bf"
      },
      "execution_count": 16,
      "outputs": []
    },
    {
      "cell_type": "markdown",
      "source": [
        "# Tables"
      ],
      "metadata": {
        "id": "mX_Ovsy5cZzf"
      }
    },
    {
      "cell_type": "code",
      "source": [
        "show_table_query = (\"show tables\")\n",
        "cursor.execute(show_table_query)\n",
        "tables = cursor.fetchall()\n",
        "print(tables)"
      ],
      "metadata": {
        "colab": {
          "base_uri": "https://localhost:8080/"
        },
        "id": "HaMVNlRBcCYu",
        "outputId": "df1c34af-3de1-4bdc-fc86-695bf9196662"
      },
      "execution_count": 33,
      "outputs": [
        {
          "output_type": "stream",
          "name": "stdout",
          "text": [
            "[('actor',), ('actor_info',), ('address',), ('category',), ('city',), ('country',), ('customer',), ('customer_list',), ('film',), ('film_actor',), ('film_category',), ('film_list',), ('film_text',), ('inventory',), ('language',), ('nicer_but_slower_film_list',), ('payment',), ('rental',), ('sales_by_film_category',), ('sales_by_store',), ('staff',), ('staff_list',), ('store',)]\n"
          ]
        }
      ]
    },
    {
      "cell_type": "markdown",
      "source": [
        "# How much data\n"
      ],
      "metadata": {
        "id": "Dh7ngJJiXs7p"
      }
    },
    {
      "cell_type": "code",
      "source": [
        "# fetchall gets all records from previous executed query.\n",
        "# Just use f strings.\n",
        "\n",
        "def record_count_per_table(cursor, table):\n",
        "  query = f\"select count(*) from {table}\"\n",
        "  cursor.execute(query)\n",
        "  result = cursor.fetchall()\n",
        "  return result[0][0]\n",
        "\n",
        "for table in tables:\n",
        "  table = table[0]\n",
        "  count = record_count_per_table(cursor, table)\n",
        "  print(table, count)\n"
      ],
      "metadata": {
        "colab": {
          "base_uri": "https://localhost:8080/"
        },
        "id": "ZS8Oo9sxWfCZ",
        "outputId": "e01e10f4-1726-4e99-ffb9-5d67fb449994"
      },
      "execution_count": 50,
      "outputs": [
        {
          "output_type": "stream",
          "name": "stdout",
          "text": [
            "actor 200\n",
            "actor_info 200\n",
            "address 603\n",
            "category 16\n",
            "city 600\n",
            "country 109\n",
            "customer 599\n",
            "customer_list 599\n",
            "film 1000\n",
            "film_actor 5462\n",
            "film_category 1000\n",
            "film_list 1000\n",
            "film_text 0\n",
            "inventory 4581\n",
            "language 6\n",
            "nicer_but_slower_film_list 1000\n",
            "payment 16044\n",
            "rental 16044\n",
            "sales_by_film_category 16\n",
            "sales_by_store 2\n",
            "staff 2\n",
            "staff_list 2\n",
            "store 2\n"
          ]
        }
      ]
    },
    {
      "cell_type": "markdown",
      "source": [
        "# Columns for Table"
      ],
      "metadata": {
        "id": "wV_jgFt_mVs0"
      }
    },
    {
      "cell_type": "code",
      "source": [
        "def record_count_per_table(cursor, table):\n",
        "  query = f\"show columns from {table}\"\n",
        "  cursor.execute(query)\n",
        "  result = cursor.fetchall()\n",
        "  return result\n",
        "\n",
        "for table in tables:\n",
        "  table = table[0]\n",
        "  columns = record_count_per_table(cursor, table)\n",
        "  print(table, columns)\n"
      ],
      "metadata": {
        "colab": {
          "base_uri": "https://localhost:8080/"
        },
        "id": "7SI0-w9jYRW0",
        "outputId": "9a025a66-eccf-4c36-a383-c06b8d144e45"
      },
      "execution_count": 52,
      "outputs": [
        {
          "output_type": "stream",
          "name": "stdout",
          "text": [
            "actor [('actor_id', b'smallint unsigned', 'NO', 'PRI', None, 'auto_increment'), ('first_name', b'varchar(45)', 'NO', '', None, ''), ('last_name', b'varchar(45)', 'NO', 'MUL', None, ''), ('last_update', b'timestamp', 'NO', '', b'CURRENT_TIMESTAMP', 'DEFAULT_GENERATED on update CURRENT_TIMESTAMP')]\n",
            "actor_info [('actor_id', b'smallint unsigned', 'NO', '', b'0', ''), ('first_name', b'varchar(45)', 'NO', '', None, ''), ('last_name', b'varchar(45)', 'NO', '', None, ''), ('film_info', b'text', 'YES', '', None, '')]\n",
            "address [('address_id', b'smallint unsigned', 'NO', 'PRI', None, 'auto_increment'), ('address', b'varchar(50)', 'NO', '', None, ''), ('address2', b'varchar(50)', 'YES', '', None, ''), ('district', b'varchar(20)', 'NO', '', None, ''), ('city_id', b'smallint unsigned', 'NO', 'MUL', None, ''), ('postal_code', b'varchar(10)', 'YES', '', None, ''), ('phone', b'varchar(20)', 'NO', '', None, ''), ('location', b'geometry', 'NO', 'MUL', None, ''), ('last_update', b'timestamp', 'NO', '', b'CURRENT_TIMESTAMP', 'DEFAULT_GENERATED on update CURRENT_TIMESTAMP')]\n",
            "category [('category_id', b'tinyint unsigned', 'NO', 'PRI', None, 'auto_increment'), ('name', b'varchar(25)', 'NO', '', None, ''), ('last_update', b'timestamp', 'NO', '', b'CURRENT_TIMESTAMP', 'DEFAULT_GENERATED on update CURRENT_TIMESTAMP')]\n",
            "city [('city_id', b'smallint unsigned', 'NO', 'PRI', None, 'auto_increment'), ('city', b'varchar(50)', 'NO', '', None, ''), ('country_id', b'smallint unsigned', 'NO', 'MUL', None, ''), ('last_update', b'timestamp', 'NO', '', b'CURRENT_TIMESTAMP', 'DEFAULT_GENERATED on update CURRENT_TIMESTAMP')]\n",
            "country [('country_id', b'smallint unsigned', 'NO', 'PRI', None, 'auto_increment'), ('country', b'varchar(50)', 'NO', '', None, ''), ('last_update', b'timestamp', 'NO', '', b'CURRENT_TIMESTAMP', 'DEFAULT_GENERATED on update CURRENT_TIMESTAMP')]\n",
            "customer [('customer_id', b'smallint unsigned', 'NO', 'PRI', None, 'auto_increment'), ('store_id', b'tinyint unsigned', 'NO', 'MUL', None, ''), ('first_name', b'varchar(45)', 'NO', '', None, ''), ('last_name', b'varchar(45)', 'NO', 'MUL', None, ''), ('email', b'varchar(50)', 'YES', '', None, ''), ('address_id', b'smallint unsigned', 'NO', 'MUL', None, ''), ('active', b'tinyint(1)', 'NO', '', b'1', ''), ('create_date', b'datetime', 'NO', '', None, ''), ('last_update', b'timestamp', 'YES', '', b'CURRENT_TIMESTAMP', 'DEFAULT_GENERATED on update CURRENT_TIMESTAMP')]\n",
            "customer_list [('ID', b'smallint unsigned', 'NO', '', b'0', ''), ('name', b'varchar(91)', 'YES', '', None, ''), ('address', b'varchar(50)', 'NO', '', None, ''), ('zip code', b'varchar(10)', 'YES', '', None, ''), ('phone', b'varchar(20)', 'NO', '', None, ''), ('city', b'varchar(50)', 'NO', '', None, ''), ('country', b'varchar(50)', 'NO', '', None, ''), ('notes', b'varchar(6)', 'NO', '', b'', ''), ('SID', b'tinyint unsigned', 'NO', '', None, '')]\n",
            "film [('film_id', b'smallint unsigned', 'NO', 'PRI', None, 'auto_increment'), ('title', b'varchar(128)', 'NO', 'MUL', None, ''), ('description', b'text', 'YES', '', None, ''), ('release_year', b'year', 'YES', '', None, ''), ('language_id', b'tinyint unsigned', 'NO', 'MUL', None, ''), ('original_language_id', b'tinyint unsigned', 'YES', 'MUL', None, ''), ('rental_duration', b'tinyint unsigned', 'NO', '', b'3', ''), ('rental_rate', b'decimal(4,2)', 'NO', '', b'4.99', ''), ('length', b'smallint unsigned', 'YES', '', None, ''), ('replacement_cost', b'decimal(5,2)', 'NO', '', b'19.99', ''), ('rating', b\"enum('G','PG','PG-13','R','NC-17')\", 'YES', '', b'G', ''), ('special_features', b\"set('Trailers','Commentaries','Deleted Scenes','Behind the Scenes')\", 'YES', '', None, ''), ('last_update', b'timestamp', 'NO', '', b'CURRENT_TIMESTAMP', 'DEFAULT_GENERATED on update CURRENT_TIMESTAMP')]\n",
            "film_actor [('actor_id', b'smallint unsigned', 'NO', 'PRI', None, ''), ('film_id', b'smallint unsigned', 'NO', 'PRI', None, ''), ('last_update', b'timestamp', 'NO', '', b'CURRENT_TIMESTAMP', 'DEFAULT_GENERATED on update CURRENT_TIMESTAMP')]\n",
            "film_category [('film_id', b'smallint unsigned', 'NO', 'PRI', None, ''), ('category_id', b'tinyint unsigned', 'NO', 'PRI', None, ''), ('last_update', b'timestamp', 'NO', '', b'CURRENT_TIMESTAMP', 'DEFAULT_GENERATED on update CURRENT_TIMESTAMP')]\n",
            "film_list [('FID', b'smallint unsigned', 'NO', '', b'0', ''), ('title', b'varchar(128)', 'NO', '', None, ''), ('description', b'text', 'YES', '', None, ''), ('category', b'varchar(25)', 'YES', '', None, ''), ('price', b'decimal(4,2)', 'NO', '', b'4.99', ''), ('length', b'smallint unsigned', 'YES', '', None, ''), ('rating', b\"enum('G','PG','PG-13','R','NC-17')\", 'YES', '', b'G', ''), ('actors', b'text', 'YES', '', None, '')]\n",
            "film_text [('film_id', b'smallint unsigned', 'NO', 'PRI', None, ''), ('title', b'varchar(255)', 'NO', 'MUL', None, ''), ('description', b'text', 'YES', '', None, '')]\n",
            "inventory [('inventory_id', b'mediumint unsigned', 'NO', 'PRI', None, 'auto_increment'), ('film_id', b'smallint unsigned', 'NO', 'MUL', None, ''), ('store_id', b'tinyint unsigned', 'NO', 'MUL', None, ''), ('last_update', b'timestamp', 'NO', '', b'CURRENT_TIMESTAMP', 'DEFAULT_GENERATED on update CURRENT_TIMESTAMP')]\n",
            "language [('language_id', b'tinyint unsigned', 'NO', 'PRI', None, 'auto_increment'), ('name', b'char(20)', 'NO', '', None, ''), ('last_update', b'timestamp', 'NO', '', b'CURRENT_TIMESTAMP', 'DEFAULT_GENERATED on update CURRENT_TIMESTAMP')]\n",
            "nicer_but_slower_film_list [('FID', b'smallint unsigned', 'NO', '', b'0', ''), ('title', b'varchar(128)', 'NO', '', None, ''), ('description', b'text', 'YES', '', None, ''), ('category', b'varchar(25)', 'YES', '', None, ''), ('price', b'decimal(4,2)', 'NO', '', b'4.99', ''), ('length', b'smallint unsigned', 'YES', '', None, ''), ('rating', b\"enum('G','PG','PG-13','R','NC-17')\", 'YES', '', b'G', ''), ('actors', b'text', 'YES', '', None, '')]\n",
            "payment [('payment_id', b'smallint unsigned', 'NO', 'PRI', None, 'auto_increment'), ('customer_id', b'smallint unsigned', 'NO', 'MUL', None, ''), ('staff_id', b'tinyint unsigned', 'NO', 'MUL', None, ''), ('rental_id', b'int', 'YES', 'MUL', None, ''), ('amount', b'decimal(5,2)', 'NO', '', None, ''), ('payment_date', b'datetime', 'NO', '', None, ''), ('last_update', b'timestamp', 'YES', '', b'CURRENT_TIMESTAMP', 'DEFAULT_GENERATED on update CURRENT_TIMESTAMP')]\n",
            "rental [('rental_id', b'int', 'NO', 'PRI', None, 'auto_increment'), ('rental_date', b'datetime', 'NO', 'MUL', None, ''), ('inventory_id', b'mediumint unsigned', 'NO', 'MUL', None, ''), ('customer_id', b'smallint unsigned', 'NO', 'MUL', None, ''), ('return_date', b'datetime', 'YES', '', None, ''), ('staff_id', b'tinyint unsigned', 'NO', 'MUL', None, ''), ('last_update', b'timestamp', 'NO', '', b'CURRENT_TIMESTAMP', 'DEFAULT_GENERATED on update CURRENT_TIMESTAMP')]\n",
            "sales_by_film_category [('category', b'varchar(25)', 'NO', '', None, ''), ('total_sales', b'decimal(27,2)', 'YES', '', None, '')]\n",
            "sales_by_store [('store', b'varchar(101)', 'YES', '', None, ''), ('manager', b'varchar(91)', 'YES', '', None, ''), ('total_sales', b'decimal(27,2)', 'YES', '', None, '')]\n",
            "staff [('staff_id', b'tinyint unsigned', 'NO', 'PRI', None, 'auto_increment'), ('first_name', b'varchar(45)', 'NO', '', None, ''), ('last_name', b'varchar(45)', 'NO', '', None, ''), ('address_id', b'smallint unsigned', 'NO', 'MUL', None, ''), ('picture', b'blob', 'YES', '', None, ''), ('email', b'varchar(50)', 'YES', '', None, ''), ('store_id', b'tinyint unsigned', 'NO', 'MUL', None, ''), ('active', b'tinyint(1)', 'NO', '', b'1', ''), ('username', b'varchar(16)', 'NO', '', None, ''), ('password', b'varchar(40)', 'YES', '', None, ''), ('last_update', b'timestamp', 'NO', '', b'CURRENT_TIMESTAMP', 'DEFAULT_GENERATED on update CURRENT_TIMESTAMP')]\n",
            "staff_list [('ID', b'tinyint unsigned', 'NO', '', b'0', ''), ('name', b'varchar(91)', 'YES', '', None, ''), ('address', b'varchar(50)', 'NO', '', None, ''), ('zip code', b'varchar(10)', 'YES', '', None, ''), ('phone', b'varchar(20)', 'NO', '', None, ''), ('city', b'varchar(50)', 'NO', '', None, ''), ('country', b'varchar(50)', 'NO', '', None, ''), ('SID', b'tinyint unsigned', 'NO', '', None, '')]\n",
            "store [('store_id', b'tinyint unsigned', 'NO', 'PRI', None, 'auto_increment'), ('manager_staff_id', b'tinyint unsigned', 'NO', 'UNI', None, ''), ('address_id', b'smallint unsigned', 'NO', 'MUL', None, ''), ('last_update', b'timestamp', 'NO', '', b'CURRENT_TIMESTAMP', 'DEFAULT_GENERATED on update CURRENT_TIMESTAMP')]\n"
          ]
        }
      ]
    },
    {
      "cell_type": "markdown",
      "source": [
        "# Time period for Payments"
      ],
      "metadata": {
        "id": "hB7svpf1mpm2"
      }
    },
    {
      "cell_type": "code",
      "source": [
        "time_payment_query = (\"select min(payment_date) as first, max(payment_date) as last from payment\")\n",
        "cursor.execute(time_payment_query)\n",
        "result =  cursor.fetchall()\n",
        "print(result)"
      ],
      "metadata": {
        "colab": {
          "base_uri": "https://localhost:8080/"
        },
        "id": "mqWBFaYTmf_Q",
        "outputId": "ed2967ed-ac2b-402c-f8e7-242db9eaa1f1"
      },
      "execution_count": 53,
      "outputs": [
        {
          "output_type": "stream",
          "name": "stdout",
          "text": [
            "[(datetime.datetime(2005, 5, 24, 22, 53, 30), datetime.datetime(2006, 2, 14, 15, 16, 3))]\n"
          ]
        }
      ]
    },
    {
      "cell_type": "markdown",
      "source": [
        "# Where do events occer? How many are from these locations?\n",
        "\n",
        "\n",
        "*   District\n",
        "*   Address\n",
        "*   City\n",
        "*   Postal\n",
        "*   Country\n",
        "\n",
        "\n",
        "\n"
      ],
      "metadata": {
        "id": "Bv6kx2X_pLo8"
      }
    },
    {
      "cell_type": "code",
      "source": [
        "location_query = \"\"\"\n",
        "select\n",
        "  a.address as address,\n",
        "  a.district as district,\n",
        "  a.postal_code as postal_code,\n",
        "  ci.city as city,\n",
        "  co.country as country\n",
        "from address as a\n",
        "inner join city as ci\n",
        "on a.city_id = ci.city_id\n",
        "inner join country as co\n",
        "on ci.country_id = co.country_id\n",
        "\"\"\"\n",
        "cursor.execute(location_query)\n",
        "result = cursor.fetchmany(5)\n",
        "for record in result:\n",
        "  print(record)\n",
        "\n",
        "location_analysis_query = f\"\"\"\n",
        "with locations as (\n",
        "  {location_query}\n",
        ")\n",
        "select\n",
        "\tcount(address) as address_count,\n",
        "\tcount(district) as district_count,\n",
        "\tcount(postal_code) as postal_code_count,\n",
        "\tcount(city) as city_count,\n",
        "\tcount(country) as country_count\n",
        "from locations\n",
        "group by address, district, postal_code, city, country\n",
        "\"\"\"\n",
        "\n",
        "cursor.execute(location_analysis_query)\n",
        "result = cursor.fetchmany(5)\n",
        "for record in result:\n",
        "  print(record)\n"
      ],
      "metadata": {
        "colab": {
          "base_uri": "https://localhost:8080/"
        },
        "id": "qrOXPkQdpEay",
        "outputId": "3f5a1a9e-d696-47d7-bc28-8209f4d1cdd7"
      },
      "execution_count": 60,
      "outputs": [
        {
          "output_type": "stream",
          "name": "stdout",
          "text": [
            "('1168 Najafabad Parkway', 'Kabol', '40301', 'Kabul', 'Afghanistan')\n",
            "('1924 Shimonoseki Drive', 'Batna', '52625', 'Batna', 'Algeria')\n",
            "('1031 Daugavpils Parkway', 'Béchar', '59025', 'Béchar', 'Algeria')\n",
            "('757 Rustenburg Avenue', 'Skikda', '89668', 'Skikda', 'Algeria')\n",
            "('1892 Nabereznyje Telny Lane', 'Tutuila', '28396', 'Tafuna', 'American Samoa')\n",
            "(1, 1, 1, 1, 1)\n",
            "(1, 1, 1, 1, 1)\n",
            "(1, 1, 1, 1, 1)\n",
            "(1, 1, 1, 1, 1)\n",
            "(1, 1, 1, 1, 1)\n"
          ]
        }
      ]
    },
    {
      "cell_type": "markdown",
      "source": [
        "# Movie for every Payment"
      ],
      "metadata": {
        "id": "vIxFjeijwMYj"
      }
    },
    {
      "cell_type": "code",
      "source": [
        "movie_per_payment_query = \"\"\"\n",
        "select\n",
        "\tp.payment_id as payment,\n",
        "\tf.title as movie\n",
        "from payment as p\n",
        "inner join rental as r on p.rental_id = r.rental_id\n",
        "inner join inventory as i on r.inventory_id = i.inventory_id\n",
        "inner join film as f on i.film_id = f.film_id\n",
        "\"\"\"\n",
        "\n",
        "cursor.execute(movie_per_payment_query)\n",
        "for record in cursor.fetchmany(5):\n",
        "  print(record)"
      ],
      "metadata": {
        "colab": {
          "base_uri": "https://localhost:8080/"
        },
        "id": "3VkEK1t1s-if",
        "outputId": "2d8eb5b8-51b2-4d59-9132-eb6f7e4df421"
      },
      "execution_count": 61,
      "outputs": [
        {
          "output_type": "stream",
          "name": "stdout",
          "text": [
            "(11630, 'ACADEMY DINOSAUR')\n",
            "(13956, 'ACADEMY DINOSAUR')\n",
            "(7578, 'ACADEMY DINOSAUR')\n",
            "(11124, 'ACADEMY DINOSAUR')\n",
            "(4607, 'ACADEMY DINOSAUR')\n"
          ]
        }
      ]
    },
    {
      "cell_type": "markdown",
      "source": [
        "# Sum movie revenue"
      ],
      "metadata": {
        "id": "fOl-iBYM2FJq"
      }
    },
    {
      "cell_type": "code",
      "source": [
        "revenue_per_movie_query = \"\"\"\n",
        "select\n",
        "\tf.title as movie,\n",
        "\tsum(p.amount) as total_revenue\n",
        "from payment as p\n",
        "inner join rental as r on p.rental_id = r.rental_id\n",
        "inner join inventory as i on r.inventory_id = i.inventory_id\n",
        "inner join film as f on i.film_id = f.film_id\n",
        "group by movie\n",
        "order by total_revenue desc\n",
        "\"\"\"\n",
        "\n",
        "cursor.execute(revenue_per_movie_query)\n",
        "for record in cursor.fetchmany(5):\n",
        "  print(record)"
      ],
      "metadata": {
        "colab": {
          "base_uri": "https://localhost:8080/"
        },
        "id": "otXxCndp19I8",
        "outputId": "b6ec3685-1788-4fcb-8d28-c929f9465c0e"
      },
      "execution_count": 62,
      "outputs": [
        {
          "output_type": "stream",
          "name": "stdout",
          "text": [
            "('TELEGRAPH VOYAGE', Decimal('231.73'))\n",
            "('WIFE TURN', Decimal('223.69'))\n",
            "('ZORRO ARK', Decimal('214.69'))\n",
            "('GOODFELLAS SALUTE', Decimal('209.69'))\n",
            "('SATURDAY LAMBS', Decimal('204.72'))\n"
          ]
        }
      ]
    },
    {
      "cell_type": "markdown",
      "source": [
        "# Top grossing cities\n"
      ],
      "metadata": {
        "id": "_7z-pA5y4KVa"
      }
    },
    {
      "cell_type": "code",
      "source": [
        "revenue_per_city_query = \"\"\"\n",
        "select ci.city as city, sum(p.amount) as revenue\n",
        "from payment as p\n",
        "inner join customer as cu on p.customer_id = cu.customer_id\n",
        "inner join address as a on a.address_id = cu.address_id\n",
        "inner join city as ci on a.city_id = ci.city_id\n",
        "group by  ci.city_id\n",
        "order by revenue desc\n",
        "\"\"\"\n",
        "\n",
        "cursor.execute(revenue_per_city_query)\n",
        "for record in cursor.fetchmany(5):\n",
        "  print(record)"
      ],
      "metadata": {
        "colab": {
          "base_uri": "https://localhost:8080/"
        },
        "id": "cwitqxzz3ZhU",
        "outputId": "05a973d2-f65b-41b4-aa33-469131936ae4"
      },
      "execution_count": 65,
      "outputs": [
        {
          "output_type": "stream",
          "name": "stdout",
          "text": [
            "('Cape Coral', Decimal('221.55'))\n",
            "('Saint-Denis', Decimal('216.54'))\n",
            "('Aurora', Decimal('198.50'))\n",
            "('Molodetšno', Decimal('195.58'))\n",
            "('Apeldoorn', Decimal('194.61'))\n"
          ]
        }
      ]
    },
    {
      "cell_type": "markdown",
      "source": [
        "# Revenue of movie per city, customer and month"
      ],
      "metadata": {
        "id": "iEWYcZmtKeWj"
      }
    },
    {
      "cell_type": "code",
      "source": [
        "movie_revenue_per_city_customer_month_query = \"\"\"\n",
        "select\n",
        "\tf.title as title,\n",
        "\tci.city as city_name,\n",
        "\tCONCAT_WS(' ', cu.first_name, cu.last_name) as customer_name,\n",
        "\tDATE_FORMAT(p.payment_date, \"%Y-%M\") as month_,\n",
        "\tsum(p.amount) as revenue\n",
        "from payment as p\n",
        "inner join rental as r on p.rental_id = r.rental_id\n",
        "inner join inventory as i on r.rental_id = i.inventory_id\n",
        "inner join film as f on i.film_id = f.film_id\n",
        "inner join customer as cu on p.customer_id = cu.customer_id\n",
        "inner join address as a on a.address_id = cu.address_id\n",
        "inner join city as ci on a.city_id = ci.city_id\n",
        "group by title, city_name, customer_name, month_\n",
        "order by month_ asc, revenue desc\n",
        "\"\"\"\n",
        "\n",
        "cursor.execute(movie_revenue_per_city_customer_month_query)\n",
        "for record in cursor.fetchmany(5):\n",
        "  print(record)"
      ],
      "metadata": {
        "colab": {
          "base_uri": "https://localhost:8080/"
        },
        "id": "9QYxpeFi5vPo",
        "outputId": "21a4d5db-baef-462f-df66-4c6290f2d2fd"
      },
      "execution_count": 66,
      "outputs": [
        {
          "output_type": "stream",
          "name": "stdout",
          "text": [
            "('SMOKING BARBARELLA', 'Joliet', 'NATHANIEL ADAM', '2005-July', Decimal('16.98'))\n",
            "('SMOKING BARBARELLA', 'Phnom Penh', 'ALLISON STANLEY', '2005-July', Decimal('15.98'))\n",
            "('WEDDING APOLLO', 'al-Qatif', 'TRAVIS ESTEP', '2005-July', Decimal('12.98'))\n",
            "('WAR NOTTING', 'Juiz de Fora', 'KENT ARSENAULT', '2005-July', Decimal('11.99'))\n",
            "('SUNRISE LEAGUE', 'Székesfehérvár', 'TERRANCE ROUSH', '2005-July', Decimal('11.99'))\n"
          ]
        }
      ]
    },
    {
      "cell_type": "code",
      "source": [],
      "metadata": {
        "id": "o6oORBFTKwuf"
      },
      "execution_count": null,
      "outputs": []
    }
  ]
}