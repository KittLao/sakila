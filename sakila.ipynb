{
  "nbformat": 4,
  "nbformat_minor": 0,
  "metadata": {
    "colab": {
      "provenance": [],
      "authorship_tag": "ABX9TyPlXm+Ufb+j74ouPMrH2KIh",
      "include_colab_link": true
    },
    "kernelspec": {
      "name": "python3",
      "display_name": "Python 3"
    },
    "language_info": {
      "name": "python"
    }
  },
  "cells": [
    {
      "cell_type": "markdown",
      "metadata": {
        "id": "view-in-github",
        "colab_type": "text"
      },
      "source": [
        "<a href=\"https://colab.research.google.com/github/KittLao/sakila/blob/main/sakila.ipynb\" target=\"_parent\"><img src=\"https://colab.research.google.com/assets/colab-badge.svg\" alt=\"Open In Colab\"/></a>"
      ]
    },
    {
      "cell_type": "code",
      "source": [
        "!pip install mysql-connector-python"
      ],
      "metadata": {
        "id": "iAi8e3HNV2NN"
      },
      "execution_count": null,
      "outputs": []
    },
    {
      "cell_type": "code",
      "execution_count": null,
      "metadata": {
        "id": "tvx9kGv4bWuQ"
      },
      "outputs": [],
      "source": [
        "import mysql.connector\n"
      ]
    },
    {
      "cell_type": "code",
      "source": [
        "# Database different from database identifier. Identifier contains multiple\n",
        "# databases.\n",
        "USER = \"admin\"\n",
        "PASSWORD = \"21223032315684kK\"\n",
        "HOST = \"sakila-mysql.cdfvrj0gw8cb.us-east-1.rds.amazonaws.com\"\n",
        "DATABASE = \"sakila\"\n",
        "\n",
        "cnx = mysql.connector.connect(user=USER, password=PASSWORD,\n",
        "                              host=HOST,\n",
        "                              database=DATABASE)\n",
        "\n"
      ],
      "metadata": {
        "id": "ms2q6kfqVzBm"
      },
      "execution_count": null,
      "outputs": []
    },
    {
      "cell_type": "code",
      "source": [
        "# Need to use buffered cursor so we can execute initialize cursor again if needed.\n",
        "cursor = cnx.cursor(buffered=True)"
      ],
      "metadata": {
        "id": "jzs5V-meY5Bf"
      },
      "execution_count": null,
      "outputs": []
    },
    {
      "cell_type": "markdown",
      "source": [
        "# Tables"
      ],
      "metadata": {
        "id": "mX_Ovsy5cZzf"
      }
    },
    {
      "cell_type": "code",
      "source": [
        "show_table_query = (\"show tables\")\n",
        "cursor.execute(show_table_query)\n",
        "tables = cursor.fetchall()\n",
        "print(tables)"
      ],
      "metadata": {
        "id": "HaMVNlRBcCYu"
      },
      "execution_count": null,
      "outputs": []
    },
    {
      "cell_type": "markdown",
      "source": [
        "# How much data\n"
      ],
      "metadata": {
        "id": "Dh7ngJJiXs7p"
      }
    },
    {
      "cell_type": "code",
      "source": [
        "# fetchall gets all records from previous executed query.\n",
        "# Just use f strings.\n",
        "\n",
        "def record_count_per_table(cursor, table):\n",
        "  query = f\"select count(*) from {table}\"\n",
        "  cursor.execute(query)\n",
        "  result = cursor.fetchall()\n",
        "  return result[0][0]\n",
        "\n",
        "for table in tables:\n",
        "  table = table[0]\n",
        "  count = record_count_per_table(cursor, table)\n",
        "  print(table, count)\n"
      ],
      "metadata": {
        "id": "ZS8Oo9sxWfCZ"
      },
      "execution_count": null,
      "outputs": []
    },
    {
      "cell_type": "markdown",
      "source": [
        "# Columns for Table"
      ],
      "metadata": {
        "id": "wV_jgFt_mVs0"
      }
    },
    {
      "cell_type": "code",
      "source": [
        "def record_count_per_table(cursor, table):\n",
        "  query = f\"show columns from {table}\"\n",
        "  cursor.execute(query)\n",
        "  result = cursor.fetchall()\n",
        "  return result\n",
        "\n",
        "for table in tables:\n",
        "  table = table[0]\n",
        "  columns = record_count_per_table(cursor, table)\n",
        "  print(table, columns)\n"
      ],
      "metadata": {
        "id": "7SI0-w9jYRW0"
      },
      "execution_count": null,
      "outputs": []
    },
    {
      "cell_type": "markdown",
      "source": [
        "# Time period for Payments"
      ],
      "metadata": {
        "id": "hB7svpf1mpm2"
      }
    },
    {
      "cell_type": "code",
      "source": [
        "time_payment_query = (\"select min(payment_date) as first, max(payment_date) as last from payment\")\n",
        "cursor.execute(time_payment_query)\n",
        "result =  cursor.fetchall()\n",
        "print(result)"
      ],
      "metadata": {
        "id": "mqWBFaYTmf_Q"
      },
      "execution_count": null,
      "outputs": []
    },
    {
      "cell_type": "markdown",
      "source": [
        "# Where do events occer? How many are from these locations?\n",
        "\n",
        "\n",
        "*   District\n",
        "*   Address\n",
        "*   City\n",
        "*   Postal\n",
        "*   Country\n",
        "\n",
        "\n",
        "\n"
      ],
      "metadata": {
        "id": "Bv6kx2X_pLo8"
      }
    },
    {
      "cell_type": "code",
      "source": [
        "location_query = \"\"\"\n",
        "select\n",
        "  a.address as address,\n",
        "  a.district as district,\n",
        "  a.postal_code as postal_code,\n",
        "  ci.city as city,\n",
        "  co.country as country\n",
        "from address as a\n",
        "inner join city as ci\n",
        "on a.city_id = ci.city_id\n",
        "inner join country as co\n",
        "on ci.country_id = co.country_id\n",
        "\"\"\"\n",
        "cursor.execute(location_query)\n",
        "result = cursor.fetchmany(5)\n",
        "for record in result:\n",
        "  print(record)\n",
        "\n",
        "location_analysis_query = f\"\"\"\n",
        "with locations as (\n",
        "  {location_query}\n",
        ")\n",
        "select\n",
        "\tcount(address) as address_count,\n",
        "\tcount(district) as district_count,\n",
        "\tcount(postal_code) as postal_code_count,\n",
        "\tcount(city) as city_count,\n",
        "\tcount(country) as country_count\n",
        "from locations\n",
        "group by address, district, postal_code, city, country\n",
        "\"\"\"\n",
        "\n",
        "cursor.execute(location_analysis_query)\n",
        "result = cursor.fetchmany(5)\n",
        "for record in result:\n",
        "  print(record)\n"
      ],
      "metadata": {
        "id": "qrOXPkQdpEay"
      },
      "execution_count": null,
      "outputs": []
    },
    {
      "cell_type": "markdown",
      "source": [
        "# Movie for every Payment"
      ],
      "metadata": {
        "id": "vIxFjeijwMYj"
      }
    },
    {
      "cell_type": "code",
      "source": [
        "movie_per_payment_query = \"\"\"\n",
        "select\n",
        "\tp.payment_id as payment,\n",
        "\tf.title as movie\n",
        "from payment as p\n",
        "inner join rental as r on p.rental_id = r.rental_id\n",
        "inner join inventory as i on r.inventory_id = i.inventory_id\n",
        "inner join film as f on i.film_id = f.film_id\n",
        "\"\"\"\n",
        "\n",
        "cursor.execute(movie_per_payment_query)\n",
        "for record in cursor.fetchmany(5):\n",
        "  print(record)"
      ],
      "metadata": {
        "id": "3VkEK1t1s-if"
      },
      "execution_count": null,
      "outputs": []
    },
    {
      "cell_type": "markdown",
      "source": [
        "# Sum movie revenue"
      ],
      "metadata": {
        "id": "fOl-iBYM2FJq"
      }
    },
    {
      "cell_type": "code",
      "source": [
        "revenue_per_movie_query = \"\"\"\n",
        "select\n",
        "\tf.title as movie,\n",
        "\tsum(p.amount) as total_revenue\n",
        "from payment as p\n",
        "inner join rental as r on p.rental_id = r.rental_id\n",
        "inner join inventory as i on r.inventory_id = i.inventory_id\n",
        "inner join film as f on i.film_id = f.film_id\n",
        "group by movie\n",
        "order by total_revenue desc\n",
        "\"\"\"\n",
        "\n",
        "cursor.execute(revenue_per_movie_query)\n",
        "for record in cursor.fetchmany(5):\n",
        "  print(record)"
      ],
      "metadata": {
        "id": "otXxCndp19I8"
      },
      "execution_count": null,
      "outputs": []
    },
    {
      "cell_type": "markdown",
      "source": [
        "# Top grossing cities\n"
      ],
      "metadata": {
        "id": "_7z-pA5y4KVa"
      }
    },
    {
      "cell_type": "code",
      "source": [
        "revenue_per_city_query = \"\"\"\n",
        "select ci.city as city, sum(p.amount) as revenue\n",
        "from payment as p\n",
        "inner join customer as cu on p.customer_id = cu.customer_id\n",
        "inner join address as a on a.address_id = cu.address_id\n",
        "inner join city as ci on a.city_id = ci.city_id\n",
        "group by  ci.city_id\n",
        "order by revenue desc\n",
        "\"\"\"\n",
        "\n",
        "cursor.execute(revenue_per_city_query)\n",
        "for record in cursor.fetchmany(5):\n",
        "  print(record)"
      ],
      "metadata": {
        "id": "cwitqxzz3ZhU"
      },
      "execution_count": null,
      "outputs": []
    },
    {
      "cell_type": "markdown",
      "source": [
        "# Revenue of movie per city, customer and month"
      ],
      "metadata": {
        "id": "iEWYcZmtKeWj"
      }
    },
    {
      "cell_type": "code",
      "source": [
        "movie_revenue_per_city_customer_month_query = \"\"\"\n",
        "select\n",
        "\tf.title as title,\n",
        "\tci.city as city_name,\n",
        "\tCONCAT_WS(' ', cu.first_name, cu.last_name) as customer_name,\n",
        "\tDATE_FORMAT(p.payment_date, \"%Y-%M\") as month_,\n",
        "\tsum(p.amount) as revenue\n",
        "from payment as p\n",
        "inner join rental as r on p.rental_id = r.rental_id\n",
        "inner join inventory as i on r.rental_id = i.inventory_id\n",
        "inner join film as f on i.film_id = f.film_id\n",
        "inner join customer as cu on p.customer_id = cu.customer_id\n",
        "inner join address as a on a.address_id = cu.address_id\n",
        "inner join city as ci on a.city_id = ci.city_id\n",
        "group by title, city_name, customer_name, month_\n",
        "order by month_ asc, revenue desc\n",
        "\"\"\"\n",
        "\n",
        "cursor.execute(movie_revenue_per_city_customer_month_query)\n",
        "for record in cursor.fetchmany(5):\n",
        "  print(record)"
      ],
      "metadata": {
        "id": "9QYxpeFi5vPo"
      },
      "execution_count": null,
      "outputs": []
    },
    {
      "cell_type": "markdown",
      "source": [
        "# Facts and Dimensions\n",
        "\n",
        "Fact should be a spend and dimensions should be details about the entities regarding spend"
      ],
      "metadata": {
        "id": "l5tXlJLujl3r"
      }
    },
    {
      "cell_type": "code",
      "source": [
        "drop_date_dim_if_exist = \"drop table if exists dimDate\"\n",
        "cursor.execute(drop_date_dim_if_exist)\n",
        "create_date_dimension = \"\"\"\n",
        "create table dimDate\n",
        "(\n",
        "\tdate_key integer not null primary key,\n",
        "\tdate date not null,\n",
        "\tyear smallint not null,\n",
        "\tquarter smallint not null,\n",
        "\tmonth smallint not null,\n",
        "\tday smallint not null,\n",
        "\tweek smallint not null,\n",
        "\tis_weekend boolean\n",
        ");\n",
        "\"\"\"\n",
        "cursor.execute(create_date_dimension)\n"
      ],
      "metadata": {
        "id": "MCYDm3pQdEMb"
      },
      "execution_count": null,
      "outputs": []
    },
    {
      "cell_type": "code",
      "source": [
        "drop_movie_dim_if_exist = \"drop table if exists dimMovie\"\n",
        "cursor.execute(drop_movie_dim_if_exist)\n",
        "create_movie_dimension = \"\"\"\n",
        "create table dimMovie\n",
        "(\n",
        "  movie_key          SERIAL PRIMARY KEY,\n",
        "  film_id            smallint NOT NULL,\n",
        "  title              varchar(255) NOT NULL,\n",
        "  description        text,\n",
        "  release_year       year,\n",
        "  language           varchar(20) NOT NULL,\n",
        "  original_language  varchar(20),\n",
        "  rental_duration    smallint NOT NULL,\n",
        "  length             smallint NOT NULL,\n",
        "  rating             varchar(5) NOT NULL,\n",
        "  special_features   varchar(60) NOT NULL\n",
        ");\n",
        "\"\"\"\n",
        "cursor.execute(create_movie_dimension)\n"
      ],
      "metadata": {
        "id": "hCwAhp7ldEEs"
      },
      "execution_count": null,
      "outputs": []
    },
    {
      "cell_type": "code",
      "source": [
        "drop_customer_dim_if_exist = \"drop table if exists dimCustomer\"\n",
        "cursor.execute(drop_customer_dim_if_exist)\n",
        "create_customer_dimension = \"\"\"\n",
        "create table dimCustomer\n",
        "(\n",
        "  customer_key SERIAL PRIMARY KEY,\n",
        "  customer_id  smallint NOT NULL,\n",
        "  first_name   varchar(45) NOT NULL,\n",
        "  last_name    varchar(45) NOT NULL,\n",
        "  email        varchar(50),\n",
        "  address      varchar(50) NOT NULL,\n",
        "  address2     varchar(50),\n",
        "  district     varchar(20) NOT NULL,\n",
        "  city         varchar(50) NOT NULL,\n",
        "  country      varchar(50) NOT NULL,\n",
        "  postal_code  varchar(10),\n",
        "  phone        varchar(20) NOT NULL,\n",
        "  active       smallint NOT NULL,\n",
        "  create_date  timestamp NOT NULL,\n",
        "  start_date   date NOT NULL,\n",
        "  end_date     date NOT NULL\n",
        ");\n",
        "\"\"\"\n",
        "cursor.execute(create_customer_dimension)\n"
      ],
      "metadata": {
        "id": "Cm_Y72ORdD9q"
      },
      "execution_count": null,
      "outputs": []
    },
    {
      "cell_type": "code",
      "source": [
        "drop_store_dim_if_exist = \"drop table if exists dimStore\"\n",
        "cursor.execute(drop_store_dim_if_exist)\n",
        "create_store_dimension = \"\"\"\n",
        "create table dimStore\n",
        "(\n",
        "  store_key           SERIAL PRIMARY KEY,\n",
        "  store_id            smallint NOT NULL,\n",
        "  address             varchar(50) NOT NULL,\n",
        "  address2            varchar(50),\n",
        "  district            varchar(20) NOT NULL,\n",
        "  city                varchar(50) NOT NULL,\n",
        "  country             varchar(50) NOT NULL,\n",
        "  postal_code         varchar(10),\n",
        "  manager_first_name  varchar(45) NOT NULL,\n",
        "  manager_last_name   varchar(45) NOT NULL,\n",
        "  start_date          date NOT NULL,\n",
        "  end_date            date NOT NULL\n",
        ");\n",
        "\"\"\"\n",
        "cursor.execute(create_store_dimension)\n"
      ],
      "metadata": {
        "id": "cY1y2XIRdDzw"
      },
      "execution_count": null,
      "outputs": []
    },
    {
      "cell_type": "code",
      "source": [
        "drop_sales_fact_if_exist = \"drop table if exists factSales\"\n",
        "cursor.execute(drop_sales_fact_if_exist)\n",
        "create_sales_fact = \"\"\"\n",
        "create table factSales\n",
        "(\n",
        "  sales_key        SERIAL PRIMARY KEY,\n",
        "  date_key         INT NOT NULL REFERENCES dimDate(date_key),\n",
        "  customer_key     INT NOT NULL REFERENCES dimCustomer(customer_key),\n",
        "  movie_key        INT NOT NULL REFERENCES dimMovie(movie_key),\n",
        "  store_key        INT NOT NULL REFERENCES dimStore(store_key),\n",
        "  sales_amount     decimal(5,2) NOT NULL\n",
        ");\n",
        "\"\"\"\n",
        "cursor.execute(create_sales_fact)\n"
      ],
      "metadata": {
        "id": "o6oORBFTKwuf"
      },
      "execution_count": null,
      "outputs": []
    },
    {
      "cell_type": "code",
      "source": [
        "cursor.execute(\"show tables\")\n",
        "cursor.fetchall()"
      ],
      "metadata": {
        "id": "fCJY6b2hlfYh"
      },
      "execution_count": null,
      "outputs": []
    },
    {
      "cell_type": "markdown",
      "source": [
        "# ETL from 3NF to Star Schema\n",
        "\n",
        "\n",
        "*   Dates should be from payment.\n",
        "*   Customer from customer, city, address and country.\n",
        "*   Movie from film.\n",
        "*   Store from address, city, country, store and staff. Start and end date are when store first open and when closed down.\n",
        "*   Fact table is a person making a sale. Customer, payment, rental, inventory.\n",
        "\n"
      ],
      "metadata": {
        "id": "9Z1X0MpOrI21"
      }
    },
    {
      "cell_type": "code",
      "source": [
        "date_etl_query = \"\"\"\n",
        "INSERT INTO dimDate (date_key, date, year, quarter, month, day, week, is_weekend)\n",
        "SELECT distinct(unix_timestamp(payment_date))                     AS date_key,\n",
        "       date(payment_date)                                           AS date,\n",
        "       EXTRACT(year FROM payment_date)                              AS year,\n",
        "       EXTRACT(quarter FROM payment_date)                           AS quarter,\n",
        "       EXTRACT(month FROM payment_date)                             AS month,\n",
        "       EXTRACT(day FROM payment_date)                               AS day,\n",
        "       EXTRACT(week FROM payment_date)                              AS week,\n",
        "       CASE WHEN dayofweek(payment_date) in (1, 7) THEN true ELSE false END AS is_weekend\n",
        "FROM payment;\n",
        "\"\"\"\n",
        "cursor.execute(date_etl_query)\n",
        "cnx.commit()\n"
      ],
      "metadata": {
        "id": "b2IwX6zsDth2"
      },
      "execution_count": null,
      "outputs": []
    },
    {
      "cell_type": "code",
      "source": [
        "cursor.execute(\"select * from dimDate limit 5\")\n",
        "for record in cursor.fetchall():\n",
        "  print(record)\n"
      ],
      "metadata": {
        "id": "1CP7wVdVZ5XO"
      },
      "execution_count": null,
      "outputs": []
    },
    {
      "cell_type": "code",
      "source": [
        "customer_etl_query = \"\"\"\n",
        "insert into dimCustomer (\n",
        "  customer_key, customer_id, first_name, last_name, email,\n",
        "  address, address2, district, city, country, postal_code,\n",
        "  phone, active, create_date, start_date, end_date\n",
        ")\n",
        "select\n",
        "  cu.customer_id as customer_key,\n",
        "  cu.customer_id as customer_id,\n",
        "  cu.first_name as first_name,\n",
        "  cu.last_name as last_name,\n",
        "  cu.email as email,\n",
        "  a.address as address,\n",
        "  a.address2 as address2,\n",
        "  a.district as district,\n",
        "  ci.city as city,\n",
        "  co.country as country,\n",
        "  a.postal_code as postal_code,\n",
        "  a.phone as phone,\n",
        "  cu.active as active,\n",
        "  cu.create_date as create_date,\n",
        "  now() as start_date,\n",
        "  now() as end_date\n",
        "from customer as cu\n",
        "inner join address as a on cu.address_id = a.address_id\n",
        "inner join city as ci on a.city_id = ci.city_id\n",
        "inner join country as co on ci.country_id = co.country_id\n",
        "\"\"\"\n",
        "cursor.execute(customer_etl_query)\n",
        "cnx.commit()\n"
      ],
      "metadata": {
        "id": "TlddAezVDtVM"
      },
      "execution_count": null,
      "outputs": []
    },
    {
      "cell_type": "code",
      "source": [
        "cursor.execute(\"select * from dimCustomer limit 5\")\n",
        "for record in cursor.fetchall():\n",
        "  print(record)"
      ],
      "metadata": {
        "id": "6ftkxN4uF_0Q"
      },
      "execution_count": null,
      "outputs": []
    },
    {
      "cell_type": "code",
      "source": [
        "movie_etl_query = \"\"\"\n",
        "insert into dimMovie (\n",
        "  movie_key, film_id, title, description, release_year, language,\n",
        "  original_language, rental_duration, length, rating, special_features\n",
        ")\n",
        "select\n",
        "  f.film_id as movie_key, f.film_id, f.title, f.description, f.release_year, l.name as language,\n",
        "  orig_l.name as original_language, f.rental_duration, f.length, f.rating, f.special_features\n",
        "from film as f\n",
        "inner join language as l on f.language_id = l.language_id\n",
        "left join language as orig_l on f.original_language_id = orig_l.language_id\n",
        "\"\"\"\n",
        "cursor.execute(movie_etl_query)\n",
        "cnx.commit()\n"
      ],
      "metadata": {
        "id": "R_1mnS9cDtLX"
      },
      "execution_count": null,
      "outputs": []
    },
    {
      "cell_type": "code",
      "source": [
        "cursor.execute(\"select * from dimMovie limit 5\")\n",
        "for record in cursor.fetchall():\n",
        "  print(record)"
      ],
      "metadata": {
        "id": "IsirsaO3G06b"
      },
      "execution_count": null,
      "outputs": []
    },
    {
      "cell_type": "code",
      "source": [
        "store_etl_query = \"\"\"\n",
        "insert into dimStore (\n",
        "  store_key, store_id, address, address2, district, city,\n",
        "  country, postal_code, manager_first_name, manager_last_name,\n",
        "  start_date, end_date\n",
        ")\n",
        "select\n",
        "  sto.store_id as store_key, sto.store_id, a.address, a.address2,\n",
        "  a.district, ci.city, co.country, a.postal_code, sta.first_name as manager_first_name,\n",
        "  sta.last_name as manager_last_name, now() as start_date, now() as end_date\n",
        "from store as sto\n",
        "inner join address as a on sto.address_id = a.address_id\n",
        "inner join city as ci on a.city_id = ci.city_id\n",
        "inner join country as co on ci.country_id = co.country_id\n",
        "inner join staff as sta on sto.manager_staff_id = sta.staff_id\n",
        "\"\"\"\n",
        "cursor.execute(store_etl_query)\n",
        "cnx.commit()\n"
      ],
      "metadata": {
        "id": "r0-osG3JDtBY"
      },
      "execution_count": null,
      "outputs": []
    },
    {
      "cell_type": "code",
      "source": [
        "cursor.execute(\"select * from dimStore limit 5\")\n",
        "for record in cursor.fetchall():\n",
        "  print(record)"
      ],
      "metadata": {
        "id": "opD-VCWjVws6"
      },
      "execution_count": null,
      "outputs": []
    },
    {
      "cell_type": "code",
      "source": [
        "sales_etl_query = \"\"\"\n",
        "insert into factSales (\n",
        "  date_key,\n",
        "  customer_key,\n",
        "  movie_key,\n",
        "  store_key,\n",
        "  sales_amount\n",
        ")\n",
        "select\n",
        "  UNIX_TIMESTAMP(p.payment_date) as date_key,\n",
        "  p.customer_id as customer_key,\n",
        "  i.film_id as movie_key,\n",
        "  i.store_id as store_key,\n",
        "  p.amount as sales_amount\n",
        "from payment as p\n",
        "inner join rental as r on p.rental_id = r.rental_id\n",
        "inner join inventory as i on r.inventory_id = i.inventory_id\n",
        "\"\"\"\n",
        "cursor.execute(sales_etl_query)\n",
        "cnx.commit()\n"
      ],
      "metadata": {
        "id": "YRmBH-YLy1fM"
      },
      "execution_count": null,
      "outputs": []
    },
    {
      "cell_type": "code",
      "source": [
        "cursor.execute(\"select * from factSales limit 5\")\n",
        "for record in cursor.fetchall():\n",
        "  print(record)\n"
      ],
      "metadata": {
        "id": "6WtcLsGuoU77"
      },
      "execution_count": null,
      "outputs": []
    },
    {
      "cell_type": "markdown",
      "source": [
        "# Analytics on Facts and Dimension Tables"
      ],
      "metadata": {
        "id": "eulcU91MaFhk"
      }
    },
    {
      "cell_type": "markdown",
      "source": [
        "# Top grossing movies"
      ],
      "metadata": {
        "id": "mMKy0yq4cNRP"
      }
    },
    {
      "cell_type": "code",
      "source": [
        "top_gross_movie = \"\"\"\n",
        "select dm.title as movie, sum(fs.sales_amount) as revenue\n",
        "from factSales as fs\n",
        "inner join dimMovie as dm on fs.movie_key = dm.movie_key\n",
        "group by movie\n",
        "order by revenue desc\n",
        "\"\"\"\n",
        "cursor.execute(top_gross_movie)\n",
        "result = cursor.fetchmany(10)\n",
        "for record in result:\n",
        "  print(record)\n"
      ],
      "metadata": {
        "id": "F1Jexbo0Yu-y"
      },
      "execution_count": null,
      "outputs": []
    },
    {
      "cell_type": "markdown",
      "source": [
        "# Top grossing cities"
      ],
      "metadata": {
        "id": "gIHPD2dgqNpH"
      }
    },
    {
      "cell_type": "code",
      "source": [
        "top_gross_city = \"\"\"\n",
        "select ds.city as city, sum(fs.sales_amount) as revenue\n",
        "from factSales as fs\n",
        "inner join dimStore as ds on fs.movie_key = ds.store_key\n",
        "group by city\n",
        "order by revenue desc\n",
        "\"\"\"\n",
        "cursor.execute(top_gross_city)\n",
        "result = cursor.fetchmany(10)\n",
        "for record in result:\n",
        "  print(record)\n",
        ""
      ],
      "metadata": {
        "id": "I1nr5jq7p7mn"
      },
      "execution_count": null,
      "outputs": []
    },
    {
      "cell_type": "markdown",
      "source": [
        "# Revenue of movie by city, customer and month"
      ],
      "metadata": {
        "id": "HORyp2nLq0Vm"
      }
    },
    {
      "cell_type": "code",
      "source": [
        "revenue_per_movie_city_customer_month = \"\"\"\n",
        "select\n",
        "  dm.title as movie,\n",
        "  dc.city as city,\n",
        "  concat_ws(' ', dc.first_name, dc.last_name) as customer,\n",
        "  dd.month as month,\n",
        "  sum(fs.sales_amount) as revenue\n",
        "from factSales as fs\n",
        "inner join dimMovie as dm on fs.movie_key = dm.movie_key\n",
        "inner join dimCustomer as dc on fs.customer_key = dc.customer_key\n",
        "inner join dimDate as dd on fs.date_key = dd.date_key\n",
        "group by movie, city, customer, month\n",
        "order by revenue desc\n",
        "\"\"\"\n",
        "cursor.execute(revenue_per_movie_city_customer_month)\n",
        "result = cursor.fetchmany(10)\n",
        "for record in result:\n",
        "  print(record)"
      ],
      "metadata": {
        "id": "vLyEO4YKqvxt"
      },
      "execution_count": null,
      "outputs": []
    },
    {
      "cell_type": "code",
      "source": [],
      "metadata": {
        "id": "EEbVnvwztAcf"
      },
      "execution_count": null,
      "outputs": []
    }
  ]
}